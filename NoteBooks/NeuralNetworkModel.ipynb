{
  "nbformat": 4,
  "nbformat_minor": 0,
  "metadata": {
    "colab": {
      "provenance": []
    },
    "kernelspec": {
      "name": "python3",
      "display_name": "Python 3"
    },
    "language_info": {
      "name": "python"
    }
  },
  "cells": [
    {
      "cell_type": "code",
      "execution_count": 96,
      "metadata": {
        "id": "fFwD5gOwVq1C"
      },
      "outputs": [],
      "source": [
        "import pandas as pd\n",
        "import numpy as np\n",
        "import matplotlib.pyplot as plt\n",
        "\n",
        "from tensorflow.keras.models import Sequential\n",
        "from tensorflow.keras.layers import Dense\n",
        "from tensorflow.keras.regularizers import l2\n",
        "from tensorflow.keras.layers import Dropout\n",
        "from tensorflow.keras.callbacks import EarlyStopping\n",
        "\n",
        "from sklearn.preprocessing import StandardScaler,OneHotEncoder,LabelEncoder,FunctionTransformer\n",
        "from sklearn.compose import ColumnTransformer\n",
        "from sklearn.model_selection import train_test_split\n",
        "from sklearn.pipeline import Pipeline\n",
        "from sklearn.decomposition import PCA"
      ]
    },
    {
      "cell_type": "code",
      "source": [
        "#Read In data\n",
        "df_2020 = pd.read_csv('/content/play_by_play_2020.csv',low_memory=False)\n",
        "df_2021 = pd.read_csv('/content/play_by_play_2021.csv',low_memory=False)\n",
        "df_2022 = pd.read_csv('/content/play_by_play_2022.csv',low_memory=False)"
      ],
      "metadata": {
        "id": "-ek83X4XW68_"
      },
      "execution_count": 3,
      "outputs": []
    },
    {
      "cell_type": "code",
      "source": [
        "#Combine the dataframes into one\n",
        "df = pd.concat([df_2020,df_2021,df_2022],axis = 0)"
      ],
      "metadata": {
        "id": "ZaFHmIuAXo1i"
      },
      "execution_count": 4,
      "outputs": []
    },
    {
      "cell_type": "code",
      "source": [
        "#Feature Selection\n",
        "features = ['posteam','posteam_type','defteam','yardline_100','qtr','quarter_seconds_remaining','down','ydstogo','shotgun','posteam_score','defteam_score','score_differential','play_type']"
      ],
      "metadata": {
        "id": "TuTdhsR6XrL3"
      },
      "execution_count": 5,
      "outputs": []
    },
    {
      "cell_type": "code",
      "source": [
        "df = df[features]"
      ],
      "metadata": {
        "id": "p6Y1E6yfXsuw"
      },
      "execution_count": 6,
      "outputs": []
    },
    {
      "cell_type": "code",
      "source": [
        "df.head()"
      ],
      "metadata": {
        "colab": {
          "base_uri": "https://localhost:8080/",
          "height": 270
        },
        "id": "5iriUZATXtj_",
        "outputId": "e98a5c36-6a55-4623-d77c-db89974b4a84"
      },
      "execution_count": 7,
      "outputs": [
        {
          "output_type": "execute_result",
          "data": {
            "text/plain": [
              "  posteam posteam_type defteam  yardline_100  qtr  quarter_seconds_remaining  \\\n",
              "0     NaN          NaN     NaN           NaN    1                      900.0   \n",
              "1      SF         home     ARI          35.0    1                      900.0   \n",
              "2      SF         home     ARI          75.0    1                      900.0   \n",
              "3      SF         home     ARI          55.0    1                      882.0   \n",
              "4      SF         home     ARI          41.0    1                      839.0   \n",
              "\n",
              "   down  ydstogo  shotgun  posteam_score  defteam_score  score_differential  \\\n",
              "0   NaN        0        0            NaN            NaN                 NaN   \n",
              "1   NaN        0        0            0.0            0.0                 0.0   \n",
              "2   1.0       10        1            0.0            0.0                 0.0   \n",
              "3   1.0       10        1            0.0            0.0                 0.0   \n",
              "4   1.0       10        0            0.0            0.0                 0.0   \n",
              "\n",
              "  play_type  \n",
              "0       NaN  \n",
              "1   kickoff  \n",
              "2      pass  \n",
              "3       run  \n",
              "4       run  "
            ],
            "text/html": [
              "\n",
              "  <div id=\"df-0da5b86a-6c58-4df7-9f8b-49719d6d120f\">\n",
              "    <div class=\"colab-df-container\">\n",
              "      <div>\n",
              "<style scoped>\n",
              "    .dataframe tbody tr th:only-of-type {\n",
              "        vertical-align: middle;\n",
              "    }\n",
              "\n",
              "    .dataframe tbody tr th {\n",
              "        vertical-align: top;\n",
              "    }\n",
              "\n",
              "    .dataframe thead th {\n",
              "        text-align: right;\n",
              "    }\n",
              "</style>\n",
              "<table border=\"1\" class=\"dataframe\">\n",
              "  <thead>\n",
              "    <tr style=\"text-align: right;\">\n",
              "      <th></th>\n",
              "      <th>posteam</th>\n",
              "      <th>posteam_type</th>\n",
              "      <th>defteam</th>\n",
              "      <th>yardline_100</th>\n",
              "      <th>qtr</th>\n",
              "      <th>quarter_seconds_remaining</th>\n",
              "      <th>down</th>\n",
              "      <th>ydstogo</th>\n",
              "      <th>shotgun</th>\n",
              "      <th>posteam_score</th>\n",
              "      <th>defteam_score</th>\n",
              "      <th>score_differential</th>\n",
              "      <th>play_type</th>\n",
              "    </tr>\n",
              "  </thead>\n",
              "  <tbody>\n",
              "    <tr>\n",
              "      <th>0</th>\n",
              "      <td>NaN</td>\n",
              "      <td>NaN</td>\n",
              "      <td>NaN</td>\n",
              "      <td>NaN</td>\n",
              "      <td>1</td>\n",
              "      <td>900.0</td>\n",
              "      <td>NaN</td>\n",
              "      <td>0</td>\n",
              "      <td>0</td>\n",
              "      <td>NaN</td>\n",
              "      <td>NaN</td>\n",
              "      <td>NaN</td>\n",
              "      <td>NaN</td>\n",
              "    </tr>\n",
              "    <tr>\n",
              "      <th>1</th>\n",
              "      <td>SF</td>\n",
              "      <td>home</td>\n",
              "      <td>ARI</td>\n",
              "      <td>35.0</td>\n",
              "      <td>1</td>\n",
              "      <td>900.0</td>\n",
              "      <td>NaN</td>\n",
              "      <td>0</td>\n",
              "      <td>0</td>\n",
              "      <td>0.0</td>\n",
              "      <td>0.0</td>\n",
              "      <td>0.0</td>\n",
              "      <td>kickoff</td>\n",
              "    </tr>\n",
              "    <tr>\n",
              "      <th>2</th>\n",
              "      <td>SF</td>\n",
              "      <td>home</td>\n",
              "      <td>ARI</td>\n",
              "      <td>75.0</td>\n",
              "      <td>1</td>\n",
              "      <td>900.0</td>\n",
              "      <td>1.0</td>\n",
              "      <td>10</td>\n",
              "      <td>1</td>\n",
              "      <td>0.0</td>\n",
              "      <td>0.0</td>\n",
              "      <td>0.0</td>\n",
              "      <td>pass</td>\n",
              "    </tr>\n",
              "    <tr>\n",
              "      <th>3</th>\n",
              "      <td>SF</td>\n",
              "      <td>home</td>\n",
              "      <td>ARI</td>\n",
              "      <td>55.0</td>\n",
              "      <td>1</td>\n",
              "      <td>882.0</td>\n",
              "      <td>1.0</td>\n",
              "      <td>10</td>\n",
              "      <td>1</td>\n",
              "      <td>0.0</td>\n",
              "      <td>0.0</td>\n",
              "      <td>0.0</td>\n",
              "      <td>run</td>\n",
              "    </tr>\n",
              "    <tr>\n",
              "      <th>4</th>\n",
              "      <td>SF</td>\n",
              "      <td>home</td>\n",
              "      <td>ARI</td>\n",
              "      <td>41.0</td>\n",
              "      <td>1</td>\n",
              "      <td>839.0</td>\n",
              "      <td>1.0</td>\n",
              "      <td>10</td>\n",
              "      <td>0</td>\n",
              "      <td>0.0</td>\n",
              "      <td>0.0</td>\n",
              "      <td>0.0</td>\n",
              "      <td>run</td>\n",
              "    </tr>\n",
              "  </tbody>\n",
              "</table>\n",
              "</div>\n",
              "      <button class=\"colab-df-convert\" onclick=\"convertToInteractive('df-0da5b86a-6c58-4df7-9f8b-49719d6d120f')\"\n",
              "              title=\"Convert this dataframe to an interactive table.\"\n",
              "              style=\"display:none;\">\n",
              "        \n",
              "  <svg xmlns=\"http://www.w3.org/2000/svg\" height=\"24px\"viewBox=\"0 0 24 24\"\n",
              "       width=\"24px\">\n",
              "    <path d=\"M0 0h24v24H0V0z\" fill=\"none\"/>\n",
              "    <path d=\"M18.56 5.44l.94 2.06.94-2.06 2.06-.94-2.06-.94-.94-2.06-.94 2.06-2.06.94zm-11 1L8.5 8.5l.94-2.06 2.06-.94-2.06-.94L8.5 2.5l-.94 2.06-2.06.94zm10 10l.94 2.06.94-2.06 2.06-.94-2.06-.94-.94-2.06-.94 2.06-2.06.94z\"/><path d=\"M17.41 7.96l-1.37-1.37c-.4-.4-.92-.59-1.43-.59-.52 0-1.04.2-1.43.59L10.3 9.45l-7.72 7.72c-.78.78-.78 2.05 0 2.83L4 21.41c.39.39.9.59 1.41.59.51 0 1.02-.2 1.41-.59l7.78-7.78 2.81-2.81c.8-.78.8-2.07 0-2.86zM5.41 20L4 18.59l7.72-7.72 1.47 1.35L5.41 20z\"/>\n",
              "  </svg>\n",
              "      </button>\n",
              "      \n",
              "  <style>\n",
              "    .colab-df-container {\n",
              "      display:flex;\n",
              "      flex-wrap:wrap;\n",
              "      gap: 12px;\n",
              "    }\n",
              "\n",
              "    .colab-df-convert {\n",
              "      background-color: #E8F0FE;\n",
              "      border: none;\n",
              "      border-radius: 50%;\n",
              "      cursor: pointer;\n",
              "      display: none;\n",
              "      fill: #1967D2;\n",
              "      height: 32px;\n",
              "      padding: 0 0 0 0;\n",
              "      width: 32px;\n",
              "    }\n",
              "\n",
              "    .colab-df-convert:hover {\n",
              "      background-color: #E2EBFA;\n",
              "      box-shadow: 0px 1px 2px rgba(60, 64, 67, 0.3), 0px 1px 3px 1px rgba(60, 64, 67, 0.15);\n",
              "      fill: #174EA6;\n",
              "    }\n",
              "\n",
              "    [theme=dark] .colab-df-convert {\n",
              "      background-color: #3B4455;\n",
              "      fill: #D2E3FC;\n",
              "    }\n",
              "\n",
              "    [theme=dark] .colab-df-convert:hover {\n",
              "      background-color: #434B5C;\n",
              "      box-shadow: 0px 1px 3px 1px rgba(0, 0, 0, 0.15);\n",
              "      filter: drop-shadow(0px 1px 2px rgba(0, 0, 0, 0.3));\n",
              "      fill: #FFFFFF;\n",
              "    }\n",
              "  </style>\n",
              "\n",
              "      <script>\n",
              "        const buttonEl =\n",
              "          document.querySelector('#df-0da5b86a-6c58-4df7-9f8b-49719d6d120f button.colab-df-convert');\n",
              "        buttonEl.style.display =\n",
              "          google.colab.kernel.accessAllowed ? 'block' : 'none';\n",
              "\n",
              "        async function convertToInteractive(key) {\n",
              "          const element = document.querySelector('#df-0da5b86a-6c58-4df7-9f8b-49719d6d120f');\n",
              "          const dataTable =\n",
              "            await google.colab.kernel.invokeFunction('convertToInteractive',\n",
              "                                                     [key], {});\n",
              "          if (!dataTable) return;\n",
              "\n",
              "          const docLinkHtml = 'Like what you see? Visit the ' +\n",
              "            '<a target=\"_blank\" href=https://colab.research.google.com/notebooks/data_table.ipynb>data table notebook</a>'\n",
              "            + ' to learn more about interactive tables.';\n",
              "          element.innerHTML = '';\n",
              "          dataTable['output_type'] = 'display_data';\n",
              "          await google.colab.output.renderOutput(dataTable, element);\n",
              "          const docLink = document.createElement('div');\n",
              "          docLink.innerHTML = docLinkHtml;\n",
              "          element.appendChild(docLink);\n",
              "        }\n",
              "      </script>\n",
              "    </div>\n",
              "  </div>\n",
              "  "
            ]
          },
          "metadata": {},
          "execution_count": 7
        }
      ]
    },
    {
      "cell_type": "markdown",
      "source": [
        "# Data Cleaning"
      ],
      "metadata": {
        "id": "PP-qLE29XxPM"
      }
    },
    {
      "cell_type": "code",
      "source": [
        "df.isnull().sum()"
      ],
      "metadata": {
        "colab": {
          "base_uri": "https://localhost:8080/"
        },
        "id": "kCDyYL3kXvNM",
        "outputId": "8e04a74f-72dd-44c9-968a-4788261b2380"
      },
      "execution_count": 8,
      "outputs": [
        {
          "output_type": "execute_result",
          "data": {
            "text/plain": [
              "posteam                       5601\n",
              "posteam_type                  5601\n",
              "defteam                       5601\n",
              "yardline_100                  6374\n",
              "qtr                              0\n",
              "quarter_seconds_remaining        8\n",
              "down                         13089\n",
              "ydstogo                          0\n",
              "shotgun                          0\n",
              "posteam_score                 5601\n",
              "defteam_score                 5601\n",
              "score_differential            5601\n",
              "play_type                     3309\n",
              "dtype: int64"
            ]
          },
          "metadata": {},
          "execution_count": 8
        }
      ]
    },
    {
      "cell_type": "code",
      "source": [
        "#Since play_type is going to be our target variable, lets look into it\n",
        "df[df['play_type'].isna()]"
      ],
      "metadata": {
        "colab": {
          "base_uri": "https://localhost:8080/",
          "height": 488
        },
        "id": "L3QPbCrPX0Ms",
        "outputId": "1ac44d57-de69-4bf8-d378-2a2af9f68d41"
      },
      "execution_count": 9,
      "outputs": [
        {
          "output_type": "execute_result",
          "data": {
            "text/plain": [
              "      posteam posteam_type defteam  yardline_100  qtr  \\\n",
              "0         NaN          NaN     NaN           NaN    1   \n",
              "44         SF         home     ARI           NaN    1   \n",
              "76        NaN          NaN     NaN           NaN    2   \n",
              "92        NaN          NaN     NaN           NaN    2   \n",
              "134       ARI         away      SF           NaN    3   \n",
              "...       ...          ...     ...           ...  ...   \n",
              "23621     NaN          NaN     NaN           NaN    1   \n",
              "23658     SEA         away     ARI           NaN    1   \n",
              "23694     NaN          NaN     NaN           NaN    2   \n",
              "23710     NaN          NaN     NaN           NaN    2   \n",
              "23749     ARI         home     SEA           NaN    3   \n",
              "\n",
              "       quarter_seconds_remaining  down  ydstogo  shotgun  posteam_score  \\\n",
              "0                          900.0   NaN        0        0            NaN   \n",
              "44                           0.0   NaN        0        0           10.0   \n",
              "76                         120.0   NaN        0        0            NaN   \n",
              "92                           0.0   NaN        0        0            NaN   \n",
              "134                          0.0   NaN        0        0           10.0   \n",
              "...                          ...   ...      ...      ...            ...   \n",
              "23621                      900.0   NaN        0        0            NaN   \n",
              "23658                        0.0   NaN        0        0            3.0   \n",
              "23694                      120.0   NaN        0        0            NaN   \n",
              "23710                        0.0   NaN        0        0            NaN   \n",
              "23749                        0.0   NaN        0        0           14.0   \n",
              "\n",
              "       defteam_score  score_differential play_type  \n",
              "0                NaN                 NaN       NaN  \n",
              "44               7.0                 3.0       NaN  \n",
              "76               NaN                 NaN       NaN  \n",
              "92               NaN                 NaN       NaN  \n",
              "134             13.0                -3.0       NaN  \n",
              "...              ...                 ...       ...  \n",
              "23621            NaN                 NaN       NaN  \n",
              "23658            7.0                -4.0       NaN  \n",
              "23694            NaN                 NaN       NaN  \n",
              "23710            NaN                 NaN       NaN  \n",
              "23749           17.0                -3.0       NaN  \n",
              "\n",
              "[3309 rows x 13 columns]"
            ],
            "text/html": [
              "\n",
              "  <div id=\"df-de82304c-2918-468a-9059-10c5fb1dbcb4\">\n",
              "    <div class=\"colab-df-container\">\n",
              "      <div>\n",
              "<style scoped>\n",
              "    .dataframe tbody tr th:only-of-type {\n",
              "        vertical-align: middle;\n",
              "    }\n",
              "\n",
              "    .dataframe tbody tr th {\n",
              "        vertical-align: top;\n",
              "    }\n",
              "\n",
              "    .dataframe thead th {\n",
              "        text-align: right;\n",
              "    }\n",
              "</style>\n",
              "<table border=\"1\" class=\"dataframe\">\n",
              "  <thead>\n",
              "    <tr style=\"text-align: right;\">\n",
              "      <th></th>\n",
              "      <th>posteam</th>\n",
              "      <th>posteam_type</th>\n",
              "      <th>defteam</th>\n",
              "      <th>yardline_100</th>\n",
              "      <th>qtr</th>\n",
              "      <th>quarter_seconds_remaining</th>\n",
              "      <th>down</th>\n",
              "      <th>ydstogo</th>\n",
              "      <th>shotgun</th>\n",
              "      <th>posteam_score</th>\n",
              "      <th>defteam_score</th>\n",
              "      <th>score_differential</th>\n",
              "      <th>play_type</th>\n",
              "    </tr>\n",
              "  </thead>\n",
              "  <tbody>\n",
              "    <tr>\n",
              "      <th>0</th>\n",
              "      <td>NaN</td>\n",
              "      <td>NaN</td>\n",
              "      <td>NaN</td>\n",
              "      <td>NaN</td>\n",
              "      <td>1</td>\n",
              "      <td>900.0</td>\n",
              "      <td>NaN</td>\n",
              "      <td>0</td>\n",
              "      <td>0</td>\n",
              "      <td>NaN</td>\n",
              "      <td>NaN</td>\n",
              "      <td>NaN</td>\n",
              "      <td>NaN</td>\n",
              "    </tr>\n",
              "    <tr>\n",
              "      <th>44</th>\n",
              "      <td>SF</td>\n",
              "      <td>home</td>\n",
              "      <td>ARI</td>\n",
              "      <td>NaN</td>\n",
              "      <td>1</td>\n",
              "      <td>0.0</td>\n",
              "      <td>NaN</td>\n",
              "      <td>0</td>\n",
              "      <td>0</td>\n",
              "      <td>10.0</td>\n",
              "      <td>7.0</td>\n",
              "      <td>3.0</td>\n",
              "      <td>NaN</td>\n",
              "    </tr>\n",
              "    <tr>\n",
              "      <th>76</th>\n",
              "      <td>NaN</td>\n",
              "      <td>NaN</td>\n",
              "      <td>NaN</td>\n",
              "      <td>NaN</td>\n",
              "      <td>2</td>\n",
              "      <td>120.0</td>\n",
              "      <td>NaN</td>\n",
              "      <td>0</td>\n",
              "      <td>0</td>\n",
              "      <td>NaN</td>\n",
              "      <td>NaN</td>\n",
              "      <td>NaN</td>\n",
              "      <td>NaN</td>\n",
              "    </tr>\n",
              "    <tr>\n",
              "      <th>92</th>\n",
              "      <td>NaN</td>\n",
              "      <td>NaN</td>\n",
              "      <td>NaN</td>\n",
              "      <td>NaN</td>\n",
              "      <td>2</td>\n",
              "      <td>0.0</td>\n",
              "      <td>NaN</td>\n",
              "      <td>0</td>\n",
              "      <td>0</td>\n",
              "      <td>NaN</td>\n",
              "      <td>NaN</td>\n",
              "      <td>NaN</td>\n",
              "      <td>NaN</td>\n",
              "    </tr>\n",
              "    <tr>\n",
              "      <th>134</th>\n",
              "      <td>ARI</td>\n",
              "      <td>away</td>\n",
              "      <td>SF</td>\n",
              "      <td>NaN</td>\n",
              "      <td>3</td>\n",
              "      <td>0.0</td>\n",
              "      <td>NaN</td>\n",
              "      <td>0</td>\n",
              "      <td>0</td>\n",
              "      <td>10.0</td>\n",
              "      <td>13.0</td>\n",
              "      <td>-3.0</td>\n",
              "      <td>NaN</td>\n",
              "    </tr>\n",
              "    <tr>\n",
              "      <th>...</th>\n",
              "      <td>...</td>\n",
              "      <td>...</td>\n",
              "      <td>...</td>\n",
              "      <td>...</td>\n",
              "      <td>...</td>\n",
              "      <td>...</td>\n",
              "      <td>...</td>\n",
              "      <td>...</td>\n",
              "      <td>...</td>\n",
              "      <td>...</td>\n",
              "      <td>...</td>\n",
              "      <td>...</td>\n",
              "      <td>...</td>\n",
              "    </tr>\n",
              "    <tr>\n",
              "      <th>23621</th>\n",
              "      <td>NaN</td>\n",
              "      <td>NaN</td>\n",
              "      <td>NaN</td>\n",
              "      <td>NaN</td>\n",
              "      <td>1</td>\n",
              "      <td>900.0</td>\n",
              "      <td>NaN</td>\n",
              "      <td>0</td>\n",
              "      <td>0</td>\n",
              "      <td>NaN</td>\n",
              "      <td>NaN</td>\n",
              "      <td>NaN</td>\n",
              "      <td>NaN</td>\n",
              "    </tr>\n",
              "    <tr>\n",
              "      <th>23658</th>\n",
              "      <td>SEA</td>\n",
              "      <td>away</td>\n",
              "      <td>ARI</td>\n",
              "      <td>NaN</td>\n",
              "      <td>1</td>\n",
              "      <td>0.0</td>\n",
              "      <td>NaN</td>\n",
              "      <td>0</td>\n",
              "      <td>0</td>\n",
              "      <td>3.0</td>\n",
              "      <td>7.0</td>\n",
              "      <td>-4.0</td>\n",
              "      <td>NaN</td>\n",
              "    </tr>\n",
              "    <tr>\n",
              "      <th>23694</th>\n",
              "      <td>NaN</td>\n",
              "      <td>NaN</td>\n",
              "      <td>NaN</td>\n",
              "      <td>NaN</td>\n",
              "      <td>2</td>\n",
              "      <td>120.0</td>\n",
              "      <td>NaN</td>\n",
              "      <td>0</td>\n",
              "      <td>0</td>\n",
              "      <td>NaN</td>\n",
              "      <td>NaN</td>\n",
              "      <td>NaN</td>\n",
              "      <td>NaN</td>\n",
              "    </tr>\n",
              "    <tr>\n",
              "      <th>23710</th>\n",
              "      <td>NaN</td>\n",
              "      <td>NaN</td>\n",
              "      <td>NaN</td>\n",
              "      <td>NaN</td>\n",
              "      <td>2</td>\n",
              "      <td>0.0</td>\n",
              "      <td>NaN</td>\n",
              "      <td>0</td>\n",
              "      <td>0</td>\n",
              "      <td>NaN</td>\n",
              "      <td>NaN</td>\n",
              "      <td>NaN</td>\n",
              "      <td>NaN</td>\n",
              "    </tr>\n",
              "    <tr>\n",
              "      <th>23749</th>\n",
              "      <td>ARI</td>\n",
              "      <td>home</td>\n",
              "      <td>SEA</td>\n",
              "      <td>NaN</td>\n",
              "      <td>3</td>\n",
              "      <td>0.0</td>\n",
              "      <td>NaN</td>\n",
              "      <td>0</td>\n",
              "      <td>0</td>\n",
              "      <td>14.0</td>\n",
              "      <td>17.0</td>\n",
              "      <td>-3.0</td>\n",
              "      <td>NaN</td>\n",
              "    </tr>\n",
              "  </tbody>\n",
              "</table>\n",
              "<p>3309 rows × 13 columns</p>\n",
              "</div>\n",
              "      <button class=\"colab-df-convert\" onclick=\"convertToInteractive('df-de82304c-2918-468a-9059-10c5fb1dbcb4')\"\n",
              "              title=\"Convert this dataframe to an interactive table.\"\n",
              "              style=\"display:none;\">\n",
              "        \n",
              "  <svg xmlns=\"http://www.w3.org/2000/svg\" height=\"24px\"viewBox=\"0 0 24 24\"\n",
              "       width=\"24px\">\n",
              "    <path d=\"M0 0h24v24H0V0z\" fill=\"none\"/>\n",
              "    <path d=\"M18.56 5.44l.94 2.06.94-2.06 2.06-.94-2.06-.94-.94-2.06-.94 2.06-2.06.94zm-11 1L8.5 8.5l.94-2.06 2.06-.94-2.06-.94L8.5 2.5l-.94 2.06-2.06.94zm10 10l.94 2.06.94-2.06 2.06-.94-2.06-.94-.94-2.06-.94 2.06-2.06.94z\"/><path d=\"M17.41 7.96l-1.37-1.37c-.4-.4-.92-.59-1.43-.59-.52 0-1.04.2-1.43.59L10.3 9.45l-7.72 7.72c-.78.78-.78 2.05 0 2.83L4 21.41c.39.39.9.59 1.41.59.51 0 1.02-.2 1.41-.59l7.78-7.78 2.81-2.81c.8-.78.8-2.07 0-2.86zM5.41 20L4 18.59l7.72-7.72 1.47 1.35L5.41 20z\"/>\n",
              "  </svg>\n",
              "      </button>\n",
              "      \n",
              "  <style>\n",
              "    .colab-df-container {\n",
              "      display:flex;\n",
              "      flex-wrap:wrap;\n",
              "      gap: 12px;\n",
              "    }\n",
              "\n",
              "    .colab-df-convert {\n",
              "      background-color: #E8F0FE;\n",
              "      border: none;\n",
              "      border-radius: 50%;\n",
              "      cursor: pointer;\n",
              "      display: none;\n",
              "      fill: #1967D2;\n",
              "      height: 32px;\n",
              "      padding: 0 0 0 0;\n",
              "      width: 32px;\n",
              "    }\n",
              "\n",
              "    .colab-df-convert:hover {\n",
              "      background-color: #E2EBFA;\n",
              "      box-shadow: 0px 1px 2px rgba(60, 64, 67, 0.3), 0px 1px 3px 1px rgba(60, 64, 67, 0.15);\n",
              "      fill: #174EA6;\n",
              "    }\n",
              "\n",
              "    [theme=dark] .colab-df-convert {\n",
              "      background-color: #3B4455;\n",
              "      fill: #D2E3FC;\n",
              "    }\n",
              "\n",
              "    [theme=dark] .colab-df-convert:hover {\n",
              "      background-color: #434B5C;\n",
              "      box-shadow: 0px 1px 3px 1px rgba(0, 0, 0, 0.15);\n",
              "      filter: drop-shadow(0px 1px 2px rgba(0, 0, 0, 0.3));\n",
              "      fill: #FFFFFF;\n",
              "    }\n",
              "  </style>\n",
              "\n",
              "      <script>\n",
              "        const buttonEl =\n",
              "          document.querySelector('#df-de82304c-2918-468a-9059-10c5fb1dbcb4 button.colab-df-convert');\n",
              "        buttonEl.style.display =\n",
              "          google.colab.kernel.accessAllowed ? 'block' : 'none';\n",
              "\n",
              "        async function convertToInteractive(key) {\n",
              "          const element = document.querySelector('#df-de82304c-2918-468a-9059-10c5fb1dbcb4');\n",
              "          const dataTable =\n",
              "            await google.colab.kernel.invokeFunction('convertToInteractive',\n",
              "                                                     [key], {});\n",
              "          if (!dataTable) return;\n",
              "\n",
              "          const docLinkHtml = 'Like what you see? Visit the ' +\n",
              "            '<a target=\"_blank\" href=https://colab.research.google.com/notebooks/data_table.ipynb>data table notebook</a>'\n",
              "            + ' to learn more about interactive tables.';\n",
              "          element.innerHTML = '';\n",
              "          dataTable['output_type'] = 'display_data';\n",
              "          await google.colab.output.renderOutput(dataTable, element);\n",
              "          const docLink = document.createElement('div');\n",
              "          docLink.innerHTML = docLinkHtml;\n",
              "          element.appendChild(docLink);\n",
              "        }\n",
              "      </script>\n",
              "    </div>\n",
              "  </div>\n",
              "  "
            ]
          },
          "metadata": {},
          "execution_count": 9
        }
      ]
    },
    {
      "cell_type": "code",
      "source": [
        "#It looks like the play_type is nan when its the end of a quarter, half time, 2 minute warning, or a timeout\n",
        "#so it's safe to drop these rows\n",
        "df.dropna(subset = ['play_type'],inplace = True)"
      ],
      "metadata": {
        "id": "aBoCVssqX5nf"
      },
      "execution_count": 11,
      "outputs": []
    },
    {
      "cell_type": "code",
      "source": [
        "#Lets investigate more into our target variable\n",
        "df['play_type'].value_counts()"
      ],
      "metadata": {
        "colab": {
          "base_uri": "https://localhost:8080/"
        },
        "id": "GT9y8wwjX7jj",
        "outputId": "3c6d116a-4fb3-427d-e223-540e4f67a2c5"
      },
      "execution_count": 12,
      "outputs": [
        {
          "output_type": "execute_result",
          "data": {
            "text/plain": [
              "pass           31145\n",
              "run            21788\n",
              "no_play         7011\n",
              "kickoff         4357\n",
              "punt            3174\n",
              "extra_point     2016\n",
              "field_goal      1599\n",
              "qb_kneel         670\n",
              "qb_spike         120\n",
              "Name: play_type, dtype: int64"
            ]
          },
          "metadata": {},
          "execution_count": 12
        }
      ]
    },
    {
      "cell_type": "code",
      "source": [
        "#Drop where play_type is no_play\n",
        "df = df[df['play_type'] != 'no_play']"
      ],
      "metadata": {
        "id": "cdVu3O_3YHRQ"
      },
      "execution_count": 13,
      "outputs": []
    },
    {
      "cell_type": "code",
      "source": [
        "#Check\n",
        "df['play_type'].value_counts()"
      ],
      "metadata": {
        "colab": {
          "base_uri": "https://localhost:8080/"
        },
        "id": "Jg-x-1x9YJF9",
        "outputId": "f1f9a6ea-4295-4d9b-ae71-ad99107320c0"
      },
      "execution_count": 14,
      "outputs": [
        {
          "output_type": "execute_result",
          "data": {
            "text/plain": [
              "pass           31145\n",
              "run            21788\n",
              "kickoff         4357\n",
              "punt            3174\n",
              "extra_point     2016\n",
              "field_goal      1599\n",
              "qb_kneel         670\n",
              "qb_spike         120\n",
              "Name: play_type, dtype: int64"
            ]
          },
          "metadata": {},
          "execution_count": 14
        }
      ]
    },
    {
      "cell_type": "code",
      "source": [
        "#It looks like dropping play_type null values also dropped most of the nulls besides the down column\n",
        "df.isnull().sum()"
      ],
      "metadata": {
        "colab": {
          "base_uri": "https://localhost:8080/"
        },
        "id": "8vYQcaNPYL-o",
        "outputId": "cf51d427-e244-48ad-eef6-22be6814355f"
      },
      "execution_count": 15,
      "outputs": [
        {
          "output_type": "execute_result",
          "data": {
            "text/plain": [
              "posteam                         0\n",
              "posteam_type                    0\n",
              "defteam                         0\n",
              "yardline_100                    0\n",
              "qtr                             0\n",
              "quarter_seconds_remaining       0\n",
              "down                         6601\n",
              "ydstogo                         0\n",
              "shotgun                         0\n",
              "posteam_score                   0\n",
              "defteam_score                   0\n",
              "score_differential              0\n",
              "play_type                       0\n",
              "dtype: int64"
            ]
          },
          "metadata": {},
          "execution_count": 15
        }
      ]
    },
    {
      "cell_type": "code",
      "source": [
        "#Check where down is null\n",
        "df[df['down'].isna()]"
      ],
      "metadata": {
        "colab": {
          "base_uri": "https://localhost:8080/",
          "height": 488
        },
        "id": "AhvHvsFfYNiA",
        "outputId": "b82e7d6b-a18e-42e9-d2aa-a04eab38985b"
      },
      "execution_count": 16,
      "outputs": [
        {
          "output_type": "execute_result",
          "data": {
            "text/plain": [
              "      posteam posteam_type defteam  yardline_100  qtr  \\\n",
              "1          SF         home     ARI          35.0    1   \n",
              "8         ARI         away      SF          35.0    1   \n",
              "16         SF         home     ARI          15.0    1   \n",
              "17        ARI         away      SF          35.0    1   \n",
              "27        ARI         away      SF          15.0    1   \n",
              "...       ...          ...     ...           ...  ...   \n",
              "23765     SEA         away     ARI          15.0    4   \n",
              "23766     ARI         home     SEA          35.0    4   \n",
              "23784     ARI         home     SEA          15.0    4   \n",
              "23786     SEA         away     ARI          35.0    4   \n",
              "23796     SEA         away     ARI          15.0    4   \n",
              "\n",
              "       quarter_seconds_remaining  down  ydstogo  shotgun  posteam_score  \\\n",
              "1                          900.0   NaN        0        0            0.0   \n",
              "8                          710.0   NaN        0        0            0.0   \n",
              "16                         593.0   NaN        0        0            9.0   \n",
              "17                         593.0   NaN        0        0            0.0   \n",
              "27                         415.0   NaN        0        0            6.0   \n",
              "...                          ...   ...      ...      ...            ...   \n",
              "23765                      452.0   NaN        0        0           23.0   \n",
              "23766                      452.0   NaN        0        0           14.0   \n",
              "23784                      212.0   NaN        0        0           20.0   \n",
              "23786                      212.0   NaN        0        0           24.0   \n",
              "23796                      134.0   NaN        0        0           30.0   \n",
              "\n",
              "       defteam_score  score_differential    play_type  \n",
              "1                0.0                 0.0      kickoff  \n",
              "8                3.0                -3.0      kickoff  \n",
              "16               0.0                 9.0  extra_point  \n",
              "17              10.0               -10.0      kickoff  \n",
              "27              10.0                -4.0  extra_point  \n",
              "...              ...                 ...          ...  \n",
              "23765           14.0                 9.0  extra_point  \n",
              "23766           24.0               -10.0      kickoff  \n",
              "23784           24.0                -4.0  extra_point  \n",
              "23786           21.0                 3.0      kickoff  \n",
              "23796           21.0                 9.0  extra_point  \n",
              "\n",
              "[6601 rows x 13 columns]"
            ],
            "text/html": [
              "\n",
              "  <div id=\"df-4924524d-9702-430e-a0fd-9dd5630c0f14\">\n",
              "    <div class=\"colab-df-container\">\n",
              "      <div>\n",
              "<style scoped>\n",
              "    .dataframe tbody tr th:only-of-type {\n",
              "        vertical-align: middle;\n",
              "    }\n",
              "\n",
              "    .dataframe tbody tr th {\n",
              "        vertical-align: top;\n",
              "    }\n",
              "\n",
              "    .dataframe thead th {\n",
              "        text-align: right;\n",
              "    }\n",
              "</style>\n",
              "<table border=\"1\" class=\"dataframe\">\n",
              "  <thead>\n",
              "    <tr style=\"text-align: right;\">\n",
              "      <th></th>\n",
              "      <th>posteam</th>\n",
              "      <th>posteam_type</th>\n",
              "      <th>defteam</th>\n",
              "      <th>yardline_100</th>\n",
              "      <th>qtr</th>\n",
              "      <th>quarter_seconds_remaining</th>\n",
              "      <th>down</th>\n",
              "      <th>ydstogo</th>\n",
              "      <th>shotgun</th>\n",
              "      <th>posteam_score</th>\n",
              "      <th>defteam_score</th>\n",
              "      <th>score_differential</th>\n",
              "      <th>play_type</th>\n",
              "    </tr>\n",
              "  </thead>\n",
              "  <tbody>\n",
              "    <tr>\n",
              "      <th>1</th>\n",
              "      <td>SF</td>\n",
              "      <td>home</td>\n",
              "      <td>ARI</td>\n",
              "      <td>35.0</td>\n",
              "      <td>1</td>\n",
              "      <td>900.0</td>\n",
              "      <td>NaN</td>\n",
              "      <td>0</td>\n",
              "      <td>0</td>\n",
              "      <td>0.0</td>\n",
              "      <td>0.0</td>\n",
              "      <td>0.0</td>\n",
              "      <td>kickoff</td>\n",
              "    </tr>\n",
              "    <tr>\n",
              "      <th>8</th>\n",
              "      <td>ARI</td>\n",
              "      <td>away</td>\n",
              "      <td>SF</td>\n",
              "      <td>35.0</td>\n",
              "      <td>1</td>\n",
              "      <td>710.0</td>\n",
              "      <td>NaN</td>\n",
              "      <td>0</td>\n",
              "      <td>0</td>\n",
              "      <td>0.0</td>\n",
              "      <td>3.0</td>\n",
              "      <td>-3.0</td>\n",
              "      <td>kickoff</td>\n",
              "    </tr>\n",
              "    <tr>\n",
              "      <th>16</th>\n",
              "      <td>SF</td>\n",
              "      <td>home</td>\n",
              "      <td>ARI</td>\n",
              "      <td>15.0</td>\n",
              "      <td>1</td>\n",
              "      <td>593.0</td>\n",
              "      <td>NaN</td>\n",
              "      <td>0</td>\n",
              "      <td>0</td>\n",
              "      <td>9.0</td>\n",
              "      <td>0.0</td>\n",
              "      <td>9.0</td>\n",
              "      <td>extra_point</td>\n",
              "    </tr>\n",
              "    <tr>\n",
              "      <th>17</th>\n",
              "      <td>ARI</td>\n",
              "      <td>away</td>\n",
              "      <td>SF</td>\n",
              "      <td>35.0</td>\n",
              "      <td>1</td>\n",
              "      <td>593.0</td>\n",
              "      <td>NaN</td>\n",
              "      <td>0</td>\n",
              "      <td>0</td>\n",
              "      <td>0.0</td>\n",
              "      <td>10.0</td>\n",
              "      <td>-10.0</td>\n",
              "      <td>kickoff</td>\n",
              "    </tr>\n",
              "    <tr>\n",
              "      <th>27</th>\n",
              "      <td>ARI</td>\n",
              "      <td>away</td>\n",
              "      <td>SF</td>\n",
              "      <td>15.0</td>\n",
              "      <td>1</td>\n",
              "      <td>415.0</td>\n",
              "      <td>NaN</td>\n",
              "      <td>0</td>\n",
              "      <td>0</td>\n",
              "      <td>6.0</td>\n",
              "      <td>10.0</td>\n",
              "      <td>-4.0</td>\n",
              "      <td>extra_point</td>\n",
              "    </tr>\n",
              "    <tr>\n",
              "      <th>...</th>\n",
              "      <td>...</td>\n",
              "      <td>...</td>\n",
              "      <td>...</td>\n",
              "      <td>...</td>\n",
              "      <td>...</td>\n",
              "      <td>...</td>\n",
              "      <td>...</td>\n",
              "      <td>...</td>\n",
              "      <td>...</td>\n",
              "      <td>...</td>\n",
              "      <td>...</td>\n",
              "      <td>...</td>\n",
              "      <td>...</td>\n",
              "    </tr>\n",
              "    <tr>\n",
              "      <th>23765</th>\n",
              "      <td>SEA</td>\n",
              "      <td>away</td>\n",
              "      <td>ARI</td>\n",
              "      <td>15.0</td>\n",
              "      <td>4</td>\n",
              "      <td>452.0</td>\n",
              "      <td>NaN</td>\n",
              "      <td>0</td>\n",
              "      <td>0</td>\n",
              "      <td>23.0</td>\n",
              "      <td>14.0</td>\n",
              "      <td>9.0</td>\n",
              "      <td>extra_point</td>\n",
              "    </tr>\n",
              "    <tr>\n",
              "      <th>23766</th>\n",
              "      <td>ARI</td>\n",
              "      <td>home</td>\n",
              "      <td>SEA</td>\n",
              "      <td>35.0</td>\n",
              "      <td>4</td>\n",
              "      <td>452.0</td>\n",
              "      <td>NaN</td>\n",
              "      <td>0</td>\n",
              "      <td>0</td>\n",
              "      <td>14.0</td>\n",
              "      <td>24.0</td>\n",
              "      <td>-10.0</td>\n",
              "      <td>kickoff</td>\n",
              "    </tr>\n",
              "    <tr>\n",
              "      <th>23784</th>\n",
              "      <td>ARI</td>\n",
              "      <td>home</td>\n",
              "      <td>SEA</td>\n",
              "      <td>15.0</td>\n",
              "      <td>4</td>\n",
              "      <td>212.0</td>\n",
              "      <td>NaN</td>\n",
              "      <td>0</td>\n",
              "      <td>0</td>\n",
              "      <td>20.0</td>\n",
              "      <td>24.0</td>\n",
              "      <td>-4.0</td>\n",
              "      <td>extra_point</td>\n",
              "    </tr>\n",
              "    <tr>\n",
              "      <th>23786</th>\n",
              "      <td>SEA</td>\n",
              "      <td>away</td>\n",
              "      <td>ARI</td>\n",
              "      <td>35.0</td>\n",
              "      <td>4</td>\n",
              "      <td>212.0</td>\n",
              "      <td>NaN</td>\n",
              "      <td>0</td>\n",
              "      <td>0</td>\n",
              "      <td>24.0</td>\n",
              "      <td>21.0</td>\n",
              "      <td>3.0</td>\n",
              "      <td>kickoff</td>\n",
              "    </tr>\n",
              "    <tr>\n",
              "      <th>23796</th>\n",
              "      <td>SEA</td>\n",
              "      <td>away</td>\n",
              "      <td>ARI</td>\n",
              "      <td>15.0</td>\n",
              "      <td>4</td>\n",
              "      <td>134.0</td>\n",
              "      <td>NaN</td>\n",
              "      <td>0</td>\n",
              "      <td>0</td>\n",
              "      <td>30.0</td>\n",
              "      <td>21.0</td>\n",
              "      <td>9.0</td>\n",
              "      <td>extra_point</td>\n",
              "    </tr>\n",
              "  </tbody>\n",
              "</table>\n",
              "<p>6601 rows × 13 columns</p>\n",
              "</div>\n",
              "      <button class=\"colab-df-convert\" onclick=\"convertToInteractive('df-4924524d-9702-430e-a0fd-9dd5630c0f14')\"\n",
              "              title=\"Convert this dataframe to an interactive table.\"\n",
              "              style=\"display:none;\">\n",
              "        \n",
              "  <svg xmlns=\"http://www.w3.org/2000/svg\" height=\"24px\"viewBox=\"0 0 24 24\"\n",
              "       width=\"24px\">\n",
              "    <path d=\"M0 0h24v24H0V0z\" fill=\"none\"/>\n",
              "    <path d=\"M18.56 5.44l.94 2.06.94-2.06 2.06-.94-2.06-.94-.94-2.06-.94 2.06-2.06.94zm-11 1L8.5 8.5l.94-2.06 2.06-.94-2.06-.94L8.5 2.5l-.94 2.06-2.06.94zm10 10l.94 2.06.94-2.06 2.06-.94-2.06-.94-.94-2.06-.94 2.06-2.06.94z\"/><path d=\"M17.41 7.96l-1.37-1.37c-.4-.4-.92-.59-1.43-.59-.52 0-1.04.2-1.43.59L10.3 9.45l-7.72 7.72c-.78.78-.78 2.05 0 2.83L4 21.41c.39.39.9.59 1.41.59.51 0 1.02-.2 1.41-.59l7.78-7.78 2.81-2.81c.8-.78.8-2.07 0-2.86zM5.41 20L4 18.59l7.72-7.72 1.47 1.35L5.41 20z\"/>\n",
              "  </svg>\n",
              "      </button>\n",
              "      \n",
              "  <style>\n",
              "    .colab-df-container {\n",
              "      display:flex;\n",
              "      flex-wrap:wrap;\n",
              "      gap: 12px;\n",
              "    }\n",
              "\n",
              "    .colab-df-convert {\n",
              "      background-color: #E8F0FE;\n",
              "      border: none;\n",
              "      border-radius: 50%;\n",
              "      cursor: pointer;\n",
              "      display: none;\n",
              "      fill: #1967D2;\n",
              "      height: 32px;\n",
              "      padding: 0 0 0 0;\n",
              "      width: 32px;\n",
              "    }\n",
              "\n",
              "    .colab-df-convert:hover {\n",
              "      background-color: #E2EBFA;\n",
              "      box-shadow: 0px 1px 2px rgba(60, 64, 67, 0.3), 0px 1px 3px 1px rgba(60, 64, 67, 0.15);\n",
              "      fill: #174EA6;\n",
              "    }\n",
              "\n",
              "    [theme=dark] .colab-df-convert {\n",
              "      background-color: #3B4455;\n",
              "      fill: #D2E3FC;\n",
              "    }\n",
              "\n",
              "    [theme=dark] .colab-df-convert:hover {\n",
              "      background-color: #434B5C;\n",
              "      box-shadow: 0px 1px 3px 1px rgba(0, 0, 0, 0.15);\n",
              "      filter: drop-shadow(0px 1px 2px rgba(0, 0, 0, 0.3));\n",
              "      fill: #FFFFFF;\n",
              "    }\n",
              "  </style>\n",
              "\n",
              "      <script>\n",
              "        const buttonEl =\n",
              "          document.querySelector('#df-4924524d-9702-430e-a0fd-9dd5630c0f14 button.colab-df-convert');\n",
              "        buttonEl.style.display =\n",
              "          google.colab.kernel.accessAllowed ? 'block' : 'none';\n",
              "\n",
              "        async function convertToInteractive(key) {\n",
              "          const element = document.querySelector('#df-4924524d-9702-430e-a0fd-9dd5630c0f14');\n",
              "          const dataTable =\n",
              "            await google.colab.kernel.invokeFunction('convertToInteractive',\n",
              "                                                     [key], {});\n",
              "          if (!dataTable) return;\n",
              "\n",
              "          const docLinkHtml = 'Like what you see? Visit the ' +\n",
              "            '<a target=\"_blank\" href=https://colab.research.google.com/notebooks/data_table.ipynb>data table notebook</a>'\n",
              "            + ' to learn more about interactive tables.';\n",
              "          element.innerHTML = '';\n",
              "          dataTable['output_type'] = 'display_data';\n",
              "          await google.colab.output.renderOutput(dataTable, element);\n",
              "          const docLink = document.createElement('div');\n",
              "          docLink.innerHTML = docLinkHtml;\n",
              "          element.appendChild(docLink);\n",
              "        }\n",
              "      </script>\n",
              "    </div>\n",
              "  </div>\n",
              "  "
            ]
          },
          "metadata": {},
          "execution_count": 16
        }
      ]
    },
    {
      "cell_type": "markdown",
      "source": [
        "The values in the down column that are null are due to the play being a kickoff or extra_point, since we dont want those play_types, we can drop the null value rows."
      ],
      "metadata": {
        "id": "HbWYgKqrYVqm"
      }
    },
    {
      "cell_type": "code",
      "source": [
        "#Drop the null values \n",
        "df.dropna(subset = ['down'],inplace = True)"
      ],
      "metadata": {
        "colab": {
          "base_uri": "https://localhost:8080/"
        },
        "id": "ncOhD2VSYPcP",
        "outputId": "a4cea648-eccd-48a9-affd-383fb54a75f1"
      },
      "execution_count": 18,
      "outputs": [
        {
          "output_type": "stream",
          "name": "stderr",
          "text": [
            "/usr/local/lib/python3.8/dist-packages/pandas/util/_decorators.py:311: SettingWithCopyWarning: \n",
            "A value is trying to be set on a copy of a slice from a DataFrame\n",
            "\n",
            "See the caveats in the documentation: https://pandas.pydata.org/pandas-docs/stable/user_guide/indexing.html#returning-a-view-versus-a-copy\n",
            "  return func(*args, **kwargs)\n"
          ]
        }
      ]
    },
    {
      "cell_type": "code",
      "source": [
        "df.isnull().sum()"
      ],
      "metadata": {
        "colab": {
          "base_uri": "https://localhost:8080/"
        },
        "id": "5J-wjZyWYcw4",
        "outputId": "eb171821-3a5e-4920-a1ef-3de02dcf2099"
      },
      "execution_count": 19,
      "outputs": [
        {
          "output_type": "execute_result",
          "data": {
            "text/plain": [
              "posteam                      0\n",
              "posteam_type                 0\n",
              "defteam                      0\n",
              "yardline_100                 0\n",
              "qtr                          0\n",
              "quarter_seconds_remaining    0\n",
              "down                         0\n",
              "ydstogo                      0\n",
              "shotgun                      0\n",
              "posteam_score                0\n",
              "defteam_score                0\n",
              "score_differential           0\n",
              "play_type                    0\n",
              "dtype: int64"
            ]
          },
          "metadata": {},
          "execution_count": 19
        }
      ]
    },
    {
      "cell_type": "code",
      "source": [
        "#Create X and y\n",
        "X = df.drop(columns = ['play_type','score_differential','shotgun'])\n",
        "y = df['play_type']"
      ],
      "metadata": {
        "id": "D7gC9BWXYhAQ"
      },
      "execution_count": 54,
      "outputs": []
    },
    {
      "cell_type": "code",
      "source": [
        "#Create Baseline\n",
        "y.value_counts(normalize=True)"
      ],
      "metadata": {
        "colab": {
          "base_uri": "https://localhost:8080/"
        },
        "id": "hd0lOxR5ZEoN",
        "outputId": "f35f68d2-72a7-4c08-84c9-27e2acc536ad"
      },
      "execution_count": 55,
      "outputs": [
        {
          "output_type": "execute_result",
          "data": {
            "text/plain": [
              "pass          0.531767\n",
              "run           0.372760\n",
              "punt          0.054472\n",
              "field_goal    0.027442\n",
              "qb_kneel      0.011499\n",
              "qb_spike      0.002059\n",
              "Name: play_type, dtype: float64"
            ]
          },
          "metadata": {},
          "execution_count": 55
        }
      ]
    },
    {
      "cell_type": "code",
      "source": [
        "# Transform the target variable into numerical values\n",
        "le = LabelEncoder()\n",
        "y_sc = le.fit_transform(y)"
      ],
      "metadata": {
        "id": "LiwTaVR2ZLxI"
      },
      "execution_count": 56,
      "outputs": []
    },
    {
      "cell_type": "code",
      "source": [
        "#Onehot Encode categorical features and scale numerical values\n",
        "processor = ColumnTransformer([\n",
        "    ('ohe',OneHotEncoder(),['posteam','posteam_type','defteam']),\n",
        "    ('ss',StandardScaler(),['yardline_100','qtr','quarter_seconds_remaining','down','ydstogo','posteam_score','defteam_score'])\n",
        "],remainder= 'passthrough')"
      ],
      "metadata": {
        "id": "0l1sS5ppd1-1"
      },
      "execution_count": 57,
      "outputs": []
    },
    {
      "cell_type": "code",
      "source": [
        "#Fit and transform the processor\n",
        "X_sc = processor.fit_transform(X)"
      ],
      "metadata": {
        "id": "xoYB_DKRd6LW"
      },
      "execution_count": 58,
      "outputs": []
    },
    {
      "cell_type": "code",
      "source": [
        "#Train Test Split\n",
        "X_train,X_test,y_train,y_test = train_test_split(X_sc,y_sc,random_state = 42, stratify = y ,shuffle = True)"
      ],
      "metadata": {
        "id": "mppCL1uPZW09"
      },
      "execution_count": 59,
      "outputs": []
    },
    {
      "cell_type": "code",
      "source": [
        "#Principal Component Analysis to help reduce the dimensionality of our dataset\n",
        "pca = PCA()"
      ],
      "metadata": {
        "id": "ykVme2tydx-y"
      },
      "execution_count": 60,
      "outputs": []
    },
    {
      "cell_type": "code",
      "source": [
        "#Fit and transform the pca\n",
        "Z_train= pca.fit_transform(X_train.todense())\n",
        "Z_test = pca.transform(X_test.todense())"
      ],
      "metadata": {
        "colab": {
          "base_uri": "https://localhost:8080/"
        },
        "id": "7LHjX_Sud_8w",
        "outputId": "d3b62077-833a-4ea5-d356-2c9aace3e0eb"
      },
      "execution_count": 61,
      "outputs": [
        {
          "output_type": "stream",
          "name": "stderr",
          "text": [
            "/usr/local/lib/python3.8/dist-packages/sklearn/utils/validation.py:593: FutureWarning: np.matrix usage is deprecated in 1.0 and will raise a TypeError in 1.2. Please convert to a numpy array with np.asarray. For more information see: https://numpy.org/doc/stable/reference/generated/numpy.matrix.html\n",
            "  warnings.warn(\n",
            "/usr/local/lib/python3.8/dist-packages/sklearn/utils/validation.py:593: FutureWarning: np.matrix usage is deprecated in 1.0 and will raise a TypeError in 1.2. Please convert to a numpy array with np.asarray. For more information see: https://numpy.org/doc/stable/reference/generated/numpy.matrix.html\n",
            "  warnings.warn(\n"
          ]
        }
      ]
    },
    {
      "cell_type": "code",
      "source": [
        "Z_train.shape"
      ],
      "metadata": {
        "colab": {
          "base_uri": "https://localhost:8080/"
        },
        "id": "8zMTfBsneMb9",
        "outputId": "81824614-5556-47cb-8702-b7432a4d74cf"
      },
      "execution_count": 67,
      "outputs": [
        {
          "output_type": "execute_result",
          "data": {
            "text/plain": [
              "(43701, 73)"
            ]
          },
          "metadata": {},
          "execution_count": 67
        }
      ]
    },
    {
      "cell_type": "code",
      "source": [
        "le.classes_"
      ],
      "metadata": {
        "colab": {
          "base_uri": "https://localhost:8080/"
        },
        "id": "Fe_cg5xCeVjO",
        "outputId": "229f181a-82c4-4fae-bcac-29e5f1e4a4c2"
      },
      "execution_count": 70,
      "outputs": [
        {
          "output_type": "execute_result",
          "data": {
            "text/plain": [
              "array(['field_goal', 'pass', 'punt', 'qb_kneel', 'qb_spike', 'run'],\n",
              "      dtype=object)"
            ]
          },
          "metadata": {},
          "execution_count": 70
        }
      ]
    },
    {
      "cell_type": "code",
      "source": [
        "es = EarlyStopping(patience = 20)"
      ],
      "metadata": {
        "id": "xhK7II_Nj3gP"
      },
      "execution_count": 105,
      "outputs": []
    },
    {
      "cell_type": "code",
      "source": [
        "#Create a neural network containing regularizers and dropouts\n",
        "model = Sequential()\n",
        "model.add(Dense(8,\n",
        "                activation = 'relu',\n",
        "                input_shape = (73,)))\n",
        "model.add(Dense(64, activation = 'relu',kernel_regularizer = l2(0.01)))\n",
        "model.add(Dropout(0.5))\n",
        "model.add(Dense(128, activation = 'relu'))\n",
        "model.add(Dense(128, activation = 'relu'))\n",
        "model.add(Dropout(0.5))\n",
        "model.add(Dense(64, activation = 'relu'))\n",
        "# Multi-Class Output layer\n",
        "# 1 neuron PER class \n",
        "model.add(Dense(6, # 1 neuron per class\n",
        "                activation = 'softmax')) # softmax activation for multi-class classification\n",
        "model.compile(optimizer='adam', loss = 'sparse_categorical_crossentropy', metrics=['acc'])\n"
      ],
      "metadata": {
        "id": "WFd-VEMMcvjs"
      },
      "execution_count": 106,
      "outputs": []
    },
    {
      "cell_type": "code",
      "source": [
        "#Fit neural network model\n",
        "h = model.fit(Z_train, y_train,\n",
        "                epochs = 100,\n",
        "                batch_size = 256,\n",
        "                validation_data = (Z_test, y_test),\n",
        "              callbacks = [es])"
      ],
      "metadata": {
        "colab": {
          "base_uri": "https://localhost:8080/"
        },
        "id": "QPOib8ILdJWU",
        "outputId": "0874ac53-6e45-4be6-b8d2-e52ecb013a41"
      },
      "execution_count": 107,
      "outputs": [
        {
          "output_type": "stream",
          "name": "stdout",
          "text": [
            "Epoch 1/100\n",
            "171/171 [==============================] - 5s 15ms/step - loss: 1.1350 - acc: 0.5213 - val_loss: 0.9176 - val_acc: 0.5493\n",
            "Epoch 2/100\n",
            "171/171 [==============================] - 2s 10ms/step - loss: 0.8576 - acc: 0.5685 - val_loss: 0.7790 - val_acc: 0.6051\n",
            "Epoch 3/100\n",
            "171/171 [==============================] - 1s 9ms/step - loss: 0.7695 - acc: 0.6021 - val_loss: 0.7329 - val_acc: 0.6247\n",
            "Epoch 4/100\n",
            "171/171 [==============================] - 1s 8ms/step - loss: 0.7352 - acc: 0.6241 - val_loss: 0.7115 - val_acc: 0.6393\n",
            "Epoch 5/100\n",
            "171/171 [==============================] - 2s 9ms/step - loss: 0.7133 - acc: 0.6366 - val_loss: 0.6875 - val_acc: 0.6452\n",
            "Epoch 6/100\n",
            "171/171 [==============================] - 1s 9ms/step - loss: 0.6979 - acc: 0.6429 - val_loss: 0.6871 - val_acc: 0.6375\n",
            "Epoch 7/100\n",
            "171/171 [==============================] - 1s 8ms/step - loss: 0.6885 - acc: 0.6443 - val_loss: 0.6714 - val_acc: 0.6571\n",
            "Epoch 8/100\n",
            "171/171 [==============================] - 3s 16ms/step - loss: 0.6802 - acc: 0.6517 - val_loss: 0.6651 - val_acc: 0.6566\n",
            "Epoch 9/100\n",
            "171/171 [==============================] - 2s 10ms/step - loss: 0.6725 - acc: 0.6533 - val_loss: 0.6612 - val_acc: 0.6579\n",
            "Epoch 10/100\n",
            "171/171 [==============================] - 2s 10ms/step - loss: 0.6670 - acc: 0.6547 - val_loss: 0.6646 - val_acc: 0.6456\n",
            "Epoch 11/100\n",
            "171/171 [==============================] - 3s 15ms/step - loss: 0.6612 - acc: 0.6604 - val_loss: 0.6486 - val_acc: 0.6661\n",
            "Epoch 12/100\n",
            "171/171 [==============================] - 1s 9ms/step - loss: 0.6556 - acc: 0.6602 - val_loss: 0.6418 - val_acc: 0.6682\n",
            "Epoch 13/100\n",
            "171/171 [==============================] - 1s 9ms/step - loss: 0.6514 - acc: 0.6627 - val_loss: 0.6395 - val_acc: 0.6697\n",
            "Epoch 14/100\n",
            "171/171 [==============================] - 2s 9ms/step - loss: 0.6466 - acc: 0.6656 - val_loss: 0.6371 - val_acc: 0.6716\n",
            "Epoch 15/100\n",
            "171/171 [==============================] - 3s 16ms/step - loss: 0.6449 - acc: 0.6657 - val_loss: 0.6342 - val_acc: 0.6710\n",
            "Epoch 16/100\n",
            "171/171 [==============================] - 2s 10ms/step - loss: 0.6437 - acc: 0.6694 - val_loss: 0.6306 - val_acc: 0.6746\n",
            "Epoch 17/100\n",
            "171/171 [==============================] - 1s 9ms/step - loss: 0.6398 - acc: 0.6688 - val_loss: 0.6269 - val_acc: 0.6714\n",
            "Epoch 18/100\n",
            "171/171 [==============================] - 1s 9ms/step - loss: 0.6382 - acc: 0.6711 - val_loss: 0.6268 - val_acc: 0.6779\n",
            "Epoch 19/100\n",
            "171/171 [==============================] - 2s 9ms/step - loss: 0.6350 - acc: 0.6706 - val_loss: 0.6256 - val_acc: 0.6777\n",
            "Epoch 20/100\n",
            "171/171 [==============================] - 1s 8ms/step - loss: 0.6329 - acc: 0.6736 - val_loss: 0.6266 - val_acc: 0.6735\n",
            "Epoch 21/100\n",
            "171/171 [==============================] - 1s 9ms/step - loss: 0.6307 - acc: 0.6765 - val_loss: 0.6208 - val_acc: 0.6791\n",
            "Epoch 22/100\n",
            "171/171 [==============================] - 2s 12ms/step - loss: 0.6301 - acc: 0.6743 - val_loss: 0.6224 - val_acc: 0.6778\n",
            "Epoch 23/100\n",
            "171/171 [==============================] - 2s 13ms/step - loss: 0.6273 - acc: 0.6767 - val_loss: 0.6205 - val_acc: 0.6789\n",
            "Epoch 24/100\n",
            "171/171 [==============================] - 1s 8ms/step - loss: 0.6277 - acc: 0.6771 - val_loss: 0.6246 - val_acc: 0.6725\n",
            "Epoch 25/100\n",
            "171/171 [==============================] - 1s 9ms/step - loss: 0.6264 - acc: 0.6763 - val_loss: 0.6180 - val_acc: 0.6837\n",
            "Epoch 26/100\n",
            "171/171 [==============================] - 1s 8ms/step - loss: 0.6238 - acc: 0.6795 - val_loss: 0.6253 - val_acc: 0.6698\n",
            "Epoch 27/100\n",
            "171/171 [==============================] - 1s 9ms/step - loss: 0.6243 - acc: 0.6759 - val_loss: 0.6189 - val_acc: 0.6808\n",
            "Epoch 28/100\n",
            "171/171 [==============================] - 2s 9ms/step - loss: 0.6234 - acc: 0.6791 - val_loss: 0.6192 - val_acc: 0.6820\n",
            "Epoch 29/100\n",
            "171/171 [==============================] - 2s 9ms/step - loss: 0.6208 - acc: 0.6812 - val_loss: 0.6137 - val_acc: 0.6857\n",
            "Epoch 30/100\n",
            "171/171 [==============================] - 2s 13ms/step - loss: 0.6213 - acc: 0.6801 - val_loss: 0.6187 - val_acc: 0.6834\n",
            "Epoch 31/100\n",
            "171/171 [==============================] - 2s 13ms/step - loss: 0.6220 - acc: 0.6797 - val_loss: 0.6169 - val_acc: 0.6840\n",
            "Epoch 32/100\n",
            "171/171 [==============================] - 1s 8ms/step - loss: 0.6193 - acc: 0.6803 - val_loss: 0.6126 - val_acc: 0.6845\n",
            "Epoch 33/100\n",
            "171/171 [==============================] - 1s 9ms/step - loss: 0.6186 - acc: 0.6821 - val_loss: 0.6190 - val_acc: 0.6767\n",
            "Epoch 34/100\n",
            "171/171 [==============================] - 2s 9ms/step - loss: 0.6183 - acc: 0.6805 - val_loss: 0.6186 - val_acc: 0.6837\n",
            "Epoch 35/100\n",
            "171/171 [==============================] - 1s 9ms/step - loss: 0.6169 - acc: 0.6861 - val_loss: 0.6168 - val_acc: 0.6856\n",
            "Epoch 36/100\n",
            "171/171 [==============================] - 2s 10ms/step - loss: 0.6185 - acc: 0.6826 - val_loss: 0.6155 - val_acc: 0.6866\n",
            "Epoch 37/100\n",
            "171/171 [==============================] - 1s 9ms/step - loss: 0.6167 - acc: 0.6832 - val_loss: 0.6125 - val_acc: 0.6859\n",
            "Epoch 38/100\n",
            "171/171 [==============================] - 3s 15ms/step - loss: 0.6162 - acc: 0.6871 - val_loss: 0.6139 - val_acc: 0.6880\n",
            "Epoch 39/100\n",
            "171/171 [==============================] - 2s 11ms/step - loss: 0.6150 - acc: 0.6840 - val_loss: 0.6124 - val_acc: 0.6879\n",
            "Epoch 40/100\n",
            "171/171 [==============================] - 1s 9ms/step - loss: 0.6127 - acc: 0.6865 - val_loss: 0.6119 - val_acc: 0.6865\n",
            "Epoch 41/100\n",
            "171/171 [==============================] - 2s 9ms/step - loss: 0.6134 - acc: 0.6847 - val_loss: 0.6197 - val_acc: 0.6796\n",
            "Epoch 42/100\n",
            "171/171 [==============================] - 1s 9ms/step - loss: 0.6131 - acc: 0.6865 - val_loss: 0.6173 - val_acc: 0.6856\n",
            "Epoch 43/100\n",
            "171/171 [==============================] - 2s 9ms/step - loss: 0.6130 - acc: 0.6859 - val_loss: 0.6145 - val_acc: 0.6848\n",
            "Epoch 44/100\n",
            "171/171 [==============================] - 1s 9ms/step - loss: 0.6109 - acc: 0.6898 - val_loss: 0.6173 - val_acc: 0.6835\n",
            "Epoch 45/100\n",
            "171/171 [==============================] - 2s 11ms/step - loss: 0.6123 - acc: 0.6880 - val_loss: 0.6187 - val_acc: 0.6779\n",
            "Epoch 46/100\n",
            "171/171 [==============================] - 3s 15ms/step - loss: 0.6101 - acc: 0.6884 - val_loss: 0.6113 - val_acc: 0.6860\n",
            "Epoch 47/100\n",
            "171/171 [==============================] - 1s 8ms/step - loss: 0.6102 - acc: 0.6901 - val_loss: 0.6107 - val_acc: 0.6848\n",
            "Epoch 48/100\n",
            "171/171 [==============================] - 2s 9ms/step - loss: 0.6117 - acc: 0.6893 - val_loss: 0.6088 - val_acc: 0.6872\n",
            "Epoch 49/100\n",
            "171/171 [==============================] - 1s 9ms/step - loss: 0.6096 - acc: 0.6895 - val_loss: 0.6113 - val_acc: 0.6874\n",
            "Epoch 50/100\n",
            "171/171 [==============================] - 1s 9ms/step - loss: 0.6096 - acc: 0.6903 - val_loss: 0.6110 - val_acc: 0.6858\n",
            "Epoch 51/100\n",
            "171/171 [==============================] - 2s 9ms/step - loss: 0.6099 - acc: 0.6908 - val_loss: 0.6162 - val_acc: 0.6846\n",
            "Epoch 52/100\n",
            "171/171 [==============================] - 2s 10ms/step - loss: 0.6088 - acc: 0.6905 - val_loss: 0.6132 - val_acc: 0.6857\n",
            "Epoch 53/100\n",
            "171/171 [==============================] - 2s 13ms/step - loss: 0.6083 - acc: 0.6892 - val_loss: 0.6140 - val_acc: 0.6875\n",
            "Epoch 54/100\n",
            "171/171 [==============================] - 2s 12ms/step - loss: 0.6067 - acc: 0.6892 - val_loss: 0.6101 - val_acc: 0.6856\n",
            "Epoch 55/100\n",
            "171/171 [==============================] - 1s 8ms/step - loss: 0.6088 - acc: 0.6886 - val_loss: 0.6112 - val_acc: 0.6845\n",
            "Epoch 56/100\n",
            "171/171 [==============================] - 2s 9ms/step - loss: 0.6080 - acc: 0.6917 - val_loss: 0.6122 - val_acc: 0.6880\n",
            "Epoch 57/100\n",
            "171/171 [==============================] - 1s 9ms/step - loss: 0.6046 - acc: 0.6917 - val_loss: 0.6085 - val_acc: 0.6862\n",
            "Epoch 58/100\n",
            "171/171 [==============================] - 1s 9ms/step - loss: 0.6058 - acc: 0.6905 - val_loss: 0.6130 - val_acc: 0.6841\n",
            "Epoch 59/100\n",
            "171/171 [==============================] - 1s 9ms/step - loss: 0.6069 - acc: 0.6918 - val_loss: 0.6087 - val_acc: 0.6859\n",
            "Epoch 60/100\n",
            "171/171 [==============================] - 2s 9ms/step - loss: 0.6057 - acc: 0.6893 - val_loss: 0.6099 - val_acc: 0.6873\n",
            "Epoch 61/100\n",
            "171/171 [==============================] - 4s 21ms/step - loss: 0.6065 - acc: 0.6917 - val_loss: 0.6152 - val_acc: 0.6859\n",
            "Epoch 62/100\n",
            "171/171 [==============================] - 1s 9ms/step - loss: 0.6062 - acc: 0.6889 - val_loss: 0.6107 - val_acc: 0.6889\n",
            "Epoch 63/100\n",
            "171/171 [==============================] - 2s 9ms/step - loss: 0.6068 - acc: 0.6902 - val_loss: 0.6161 - val_acc: 0.6859\n",
            "Epoch 64/100\n",
            "171/171 [==============================] - 1s 9ms/step - loss: 0.6053 - acc: 0.6909 - val_loss: 0.6136 - val_acc: 0.6848\n",
            "Epoch 65/100\n",
            "171/171 [==============================] - 1s 9ms/step - loss: 0.6051 - acc: 0.6903 - val_loss: 0.6090 - val_acc: 0.6888\n",
            "Epoch 66/100\n",
            "171/171 [==============================] - 2s 9ms/step - loss: 0.6050 - acc: 0.6912 - val_loss: 0.6057 - val_acc: 0.6888\n",
            "Epoch 67/100\n",
            "171/171 [==============================] - 1s 9ms/step - loss: 0.6043 - acc: 0.6912 - val_loss: 0.6114 - val_acc: 0.6861\n",
            "Epoch 68/100\n",
            "171/171 [==============================] - 2s 13ms/step - loss: 0.6027 - acc: 0.6939 - val_loss: 0.6109 - val_acc: 0.6876\n",
            "Epoch 69/100\n",
            "171/171 [==============================] - 2s 12ms/step - loss: 0.6052 - acc: 0.6926 - val_loss: 0.6112 - val_acc: 0.6867\n",
            "Epoch 70/100\n",
            "171/171 [==============================] - 2s 9ms/step - loss: 0.6047 - acc: 0.6898 - val_loss: 0.6110 - val_acc: 0.6855\n",
            "Epoch 71/100\n",
            "171/171 [==============================] - 1s 9ms/step - loss: 0.6030 - acc: 0.6933 - val_loss: 0.6145 - val_acc: 0.6880\n",
            "Epoch 72/100\n",
            "171/171 [==============================] - 2s 10ms/step - loss: 0.6019 - acc: 0.6931 - val_loss: 0.6107 - val_acc: 0.6869\n",
            "Epoch 73/100\n",
            "171/171 [==============================] - 1s 9ms/step - loss: 0.6023 - acc: 0.6958 - val_loss: 0.6049 - val_acc: 0.6855\n",
            "Epoch 74/100\n",
            "171/171 [==============================] - 2s 9ms/step - loss: 0.6034 - acc: 0.6940 - val_loss: 0.6086 - val_acc: 0.6898\n",
            "Epoch 75/100\n",
            "171/171 [==============================] - 1s 9ms/step - loss: 0.6027 - acc: 0.6937 - val_loss: 0.6234 - val_acc: 0.6835\n",
            "Epoch 76/100\n",
            "171/171 [==============================] - 3s 15ms/step - loss: 0.6022 - acc: 0.6946 - val_loss: 0.6146 - val_acc: 0.6879\n",
            "Epoch 77/100\n",
            "171/171 [==============================] - 2s 10ms/step - loss: 0.6037 - acc: 0.6919 - val_loss: 0.6087 - val_acc: 0.6902\n",
            "Epoch 78/100\n",
            "171/171 [==============================] - 2s 9ms/step - loss: 0.5999 - acc: 0.6971 - val_loss: 0.6093 - val_acc: 0.6887\n",
            "Epoch 79/100\n",
            "171/171 [==============================] - 1s 9ms/step - loss: 0.6009 - acc: 0.6934 - val_loss: 0.6106 - val_acc: 0.6915\n",
            "Epoch 80/100\n",
            "171/171 [==============================] - 1s 9ms/step - loss: 0.6016 - acc: 0.6926 - val_loss: 0.6229 - val_acc: 0.6845\n",
            "Epoch 81/100\n",
            "171/171 [==============================] - 2s 10ms/step - loss: 0.6011 - acc: 0.6939 - val_loss: 0.6103 - val_acc: 0.6872\n",
            "Epoch 82/100\n",
            "171/171 [==============================] - 2s 9ms/step - loss: 0.6014 - acc: 0.6946 - val_loss: 0.6216 - val_acc: 0.6820\n",
            "Epoch 83/100\n",
            "171/171 [==============================] - 2s 10ms/step - loss: 0.6034 - acc: 0.6903 - val_loss: 0.6129 - val_acc: 0.6907\n",
            "Epoch 84/100\n",
            "171/171 [==============================] - 3s 15ms/step - loss: 0.5994 - acc: 0.6950 - val_loss: 0.6066 - val_acc: 0.6896\n",
            "Epoch 85/100\n",
            "171/171 [==============================] - 1s 9ms/step - loss: 0.6003 - acc: 0.6939 - val_loss: 0.6072 - val_acc: 0.6877\n",
            "Epoch 86/100\n",
            "171/171 [==============================] - 2s 9ms/step - loss: 0.5994 - acc: 0.6924 - val_loss: 0.6029 - val_acc: 0.6920\n",
            "Epoch 87/100\n",
            "171/171 [==============================] - 1s 9ms/step - loss: 0.5973 - acc: 0.6949 - val_loss: 0.6062 - val_acc: 0.6887\n",
            "Epoch 88/100\n",
            "171/171 [==============================] - 1s 9ms/step - loss: 0.5992 - acc: 0.6967 - val_loss: 0.6056 - val_acc: 0.6894\n",
            "Epoch 89/100\n",
            "171/171 [==============================] - 2s 9ms/step - loss: 0.6010 - acc: 0.6901 - val_loss: 0.6082 - val_acc: 0.6868\n",
            "Epoch 90/100\n",
            "171/171 [==============================] - 2s 9ms/step - loss: 0.5996 - acc: 0.6934 - val_loss: 0.6062 - val_acc: 0.6897\n",
            "Epoch 91/100\n",
            "171/171 [==============================] - 2s 12ms/step - loss: 0.5988 - acc: 0.6939 - val_loss: 0.6095 - val_acc: 0.6894\n",
            "Epoch 92/100\n",
            "171/171 [==============================] - 2s 15ms/step - loss: 0.5992 - acc: 0.6947 - val_loss: 0.6097 - val_acc: 0.6866\n",
            "Epoch 93/100\n",
            "171/171 [==============================] - 1s 9ms/step - loss: 0.5974 - acc: 0.6942 - val_loss: 0.6075 - val_acc: 0.6894\n",
            "Epoch 94/100\n",
            "171/171 [==============================] - 2s 9ms/step - loss: 0.5983 - acc: 0.6939 - val_loss: 0.6155 - val_acc: 0.6866\n",
            "Epoch 95/100\n",
            "171/171 [==============================] - 2s 13ms/step - loss: 0.6003 - acc: 0.6916 - val_loss: 0.6076 - val_acc: 0.6885\n",
            "Epoch 96/100\n",
            "171/171 [==============================] - 2s 12ms/step - loss: 0.5980 - acc: 0.6941 - val_loss: 0.6102 - val_acc: 0.6888\n",
            "Epoch 97/100\n",
            "171/171 [==============================] - 2s 9ms/step - loss: 0.5977 - acc: 0.6952 - val_loss: 0.6052 - val_acc: 0.6895\n",
            "Epoch 98/100\n",
            "171/171 [==============================] - 2s 12ms/step - loss: 0.5986 - acc: 0.6945 - val_loss: 0.6055 - val_acc: 0.6894\n",
            "Epoch 99/100\n",
            "171/171 [==============================] - 2s 13ms/step - loss: 0.5990 - acc: 0.6945 - val_loss: 0.6103 - val_acc: 0.6901\n",
            "Epoch 100/100\n",
            "171/171 [==============================] - 2s 9ms/step - loss: 0.5970 - acc: 0.6938 - val_loss: 0.6075 - val_acc: 0.6883\n"
          ]
        }
      ]
    },
    {
      "cell_type": "code",
      "source": [
        "#Showcase the models loss over the epochs\n",
        "train_loss = h.history['loss']\n",
        "test_loss = h.history['val_loss']\n",
        "\n",
        "plt.figure(figsize=(12, 8))\n",
        "plt.plot(train_loss, label='L2 Training loss', color='darkred')\n",
        "plt.plot(test_loss, label='L2 Testing loss', color='pink')\n",
        "plt.legend();"
      ],
      "metadata": {
        "colab": {
          "base_uri": "https://localhost:8080/",
          "height": 483
        },
        "id": "i0XrFREleIat",
        "outputId": "d4dfc60c-28fc-4e8f-cac4-840edbf3fdcb"
      },
      "execution_count": 108,
      "outputs": [
        {
          "output_type": "display_data",
          "data": {
            "text/plain": [
              "<Figure size 864x576 with 1 Axes>"
            ],
            "image/png": "[encoded data removed]"
          },
          "metadata": {
            "needs_background": "light"
          }
        }
      ]
    },
    {
      "cell_type": "code",
      "source": [
        "#Show case the accuracy metric over the epochs\n",
        "train_acc = h.history['acc']\n",
        "test_acc = h.history['val_acc']\n",
        "\n",
        "plt.figure(figsize=(12, 8))\n",
        "plt.plot(train_acc, label='L2 Training acc', color='darkred')\n",
        "plt.plot(test_acc, label='L2 Testing acc', color='pink')\n",
        "plt.legend();"
      ],
      "metadata": {
        "colab": {
          "base_uri": "https://localhost:8080/",
          "height": 483
        },
        "id": "u_g7t-VViXit",
        "outputId": "c7e6e778-0c35-440a-88e8-007a4b581667"
      },
      "execution_count": 109,
      "outputs": [
        {
          "output_type": "display_data",
          "data": {
            "text/plain": [
              "<Figure size 864x576 with 1 Axes>"
            ],
            "image/png": "[encoded data removed]"
          },
          "metadata": {
            "needs_background": "light"
          }
        }
      ]
    },
    {
      "cell_type": "markdown",
      "source": [
        "As we can see by using a neural network it gets around the same score as when we used the xgboost model but slightly worse. Neural networks are better when it comes nontabulated data such as images, videos, speech recognition. Because of this we'll be going more into the model evaluations for the xgboost model instead of the neural network model."
      ],
      "metadata": {
        "id": "gCa9-vCscS84"
      }
    },
    {
      "cell_type": "code",
      "source": [],
      "metadata": {
        "id": "eirjWS0Nin2J"
      },
      "execution_count": null,
      "outputs": []
    }
  ]
}